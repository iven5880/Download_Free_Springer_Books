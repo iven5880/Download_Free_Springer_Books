{
 "cells": [
  {
   "cell_type": "code",
   "execution_count": 43,
   "metadata": {},
   "outputs": [],
   "source": [
    "%reset -f"
   ]
  },
  {
   "cell_type": "code",
   "execution_count": 44,
   "metadata": {},
   "outputs": [],
   "source": [
    "import pandas as pd\n",
    "\n",
    "import requests\n",
    "\n",
    "from bs4 import BeautifulSoup\n",
    "\n",
    "import wget\n",
    "\n",
    "import os\n",
    "\n",
    "import codecs\n",
    "\n",
    "import sys"
   ]
  },
  {
   "cell_type": "code",
   "execution_count": 45,
   "metadata": {},
   "outputs": [],
   "source": [
    "def getDirectoryName(dirName):\n",
    "    dirName = dirName.replace(',', '')\n",
    "    dirName = dirName.replace(' ', '_')\n",
    "    dirName = 'SpringerBooks_'+dirName\n",
    "    return dirName"
   ]
  },
  {
   "cell_type": "code",
   "execution_count": 46,
   "metadata": {},
   "outputs": [
    {
     "data": {
      "text/html": [
       "<div>\n",
       "<style scoped>\n",
       "    .dataframe tbody tr th:only-of-type {\n",
       "        vertical-align: middle;\n",
       "    }\n",
       "\n",
       "    .dataframe tbody tr th {\n",
       "        vertical-align: top;\n",
       "    }\n",
       "\n",
       "    .dataframe thead th {\n",
       "        text-align: right;\n",
       "    }\n",
       "</style>\n",
       "<table border=\"1\" class=\"dataframe\">\n",
       "  <thead>\n",
       "    <tr style=\"text-align: right;\">\n",
       "      <th></th>\n",
       "      <th>Book Title</th>\n",
       "      <th>Author</th>\n",
       "      <th>English Package Name</th>\n",
       "      <th>OpenURL</th>\n",
       "      <th>DirectoryName</th>\n",
       "    </tr>\n",
       "  </thead>\n",
       "  <tbody>\n",
       "    <tr>\n",
       "      <th>0</th>\n",
       "      <td>Fundamentals of Power Electronics</td>\n",
       "      <td>Robert W. Erickson, Dragan Maksimovic</td>\n",
       "      <td>Engineering</td>\n",
       "      <td>http://link.springer.com/openurl?genre=book&amp;is...</td>\n",
       "      <td>SpringerBooks_Engineering</td>\n",
       "    </tr>\n",
       "    <tr>\n",
       "      <th>1</th>\n",
       "      <td>Handbook of the Life Course</td>\n",
       "      <td>Jeylan T. Mortimer, Michael J. Shanahan</td>\n",
       "      <td>Humanities, Social Sciences and Law</td>\n",
       "      <td>http://link.springer.com/openurl?genre=book&amp;is...</td>\n",
       "      <td>SpringerBooks_Humanities_Social_Sciences_and_Law</td>\n",
       "    </tr>\n",
       "    <tr>\n",
       "      <th>2</th>\n",
       "      <td>All of Statistics</td>\n",
       "      <td>Larry Wasserman</td>\n",
       "      <td>Mathematics and Statistics</td>\n",
       "      <td>http://link.springer.com/openurl?genre=book&amp;is...</td>\n",
       "      <td>SpringerBooks_Mathematics_and_Statistics</td>\n",
       "    </tr>\n",
       "    <tr>\n",
       "      <th>3</th>\n",
       "      <td>Social Anxiety and Social Phobia in Youth</td>\n",
       "      <td>Christopher Kearney</td>\n",
       "      <td>Behavioral Science</td>\n",
       "      <td>http://link.springer.com/openurl?genre=book&amp;is...</td>\n",
       "      <td>SpringerBooks_Behavioral_Science</td>\n",
       "    </tr>\n",
       "    <tr>\n",
       "      <th>4</th>\n",
       "      <td>Discrete Mathematics</td>\n",
       "      <td>László Lovász, József Pelikán, Katalin Veszter...</td>\n",
       "      <td>Mathematics and Statistics</td>\n",
       "      <td>http://link.springer.com/openurl?genre=book&amp;is...</td>\n",
       "      <td>SpringerBooks_Mathematics_and_Statistics</td>\n",
       "    </tr>\n",
       "  </tbody>\n",
       "</table>\n",
       "</div>"
      ],
      "text/plain": [
       "                                  Book Title  \\\n",
       "0          Fundamentals of Power Electronics   \n",
       "1                Handbook of the Life Course   \n",
       "2                          All of Statistics   \n",
       "3  Social Anxiety and Social Phobia in Youth   \n",
       "4                       Discrete Mathematics   \n",
       "\n",
       "                                              Author  \\\n",
       "0              Robert W. Erickson, Dragan Maksimovic   \n",
       "1            Jeylan T. Mortimer, Michael J. Shanahan   \n",
       "2                                    Larry Wasserman   \n",
       "3                                Christopher Kearney   \n",
       "4  László Lovász, József Pelikán, Katalin Veszter...   \n",
       "\n",
       "                  English Package Name  \\\n",
       "0                          Engineering   \n",
       "1  Humanities, Social Sciences and Law   \n",
       "2           Mathematics and Statistics   \n",
       "3                   Behavioral Science   \n",
       "4           Mathematics and Statistics   \n",
       "\n",
       "                                             OpenURL  \\\n",
       "0  http://link.springer.com/openurl?genre=book&is...   \n",
       "1  http://link.springer.com/openurl?genre=book&is...   \n",
       "2  http://link.springer.com/openurl?genre=book&is...   \n",
       "3  http://link.springer.com/openurl?genre=book&is...   \n",
       "4  http://link.springer.com/openurl?genre=book&is...   \n",
       "\n",
       "                                      DirectoryName  \n",
       "0                         SpringerBooks_Engineering  \n",
       "1  SpringerBooks_Humanities_Social_Sciences_and_Law  \n",
       "2          SpringerBooks_Mathematics_and_Statistics  \n",
       "3                  SpringerBooks_Behavioral_Science  \n",
       "4          SpringerBooks_Mathematics_and_Statistics  "
      ]
     },
     "execution_count": 46,
     "metadata": {},
     "output_type": "execute_result"
    }
   ],
   "source": [
    "df = pd.read_excel('Free+English+textbooks.xlsx')\n",
    "\n",
    "colsToDrop = ['Product Type', 'Copyright Year', 'Copyright Holder', 'Edition', 'Print ISBN', 'Electronic ISBN', 'Language Collection', 'German Package Name',\n",
    "              'Series Print ISSN', 'Series Electronic ISSN', 'Series Title', 'Volume Number', 'DOI URL', 'Subject Classification', 'Publisher', 'Imprint', 'eBook Package', 'Language']\n",
    "\n",
    "df = df.drop(colsToDrop, axis=1)\n",
    "\n",
    "df['DirectoryName'] = [getDirectoryName(i) for i in df['English Package Name']]\n",
    "\n",
    "df.head()"
   ]
  },
  {
   "cell_type": "code",
   "execution_count": 47,
   "metadata": {},
   "outputs": [],
   "source": [
    "# create the directories for the book types (if they don't already exist)\n",
    "\n",
    "for dr in set(df['DirectoryName']):\n",
    "    if os.path.exists(dr):\n",
    "        'Do Nothing'\n",
    "    else:\n",
    "        os.mkdir(dr)"
   ]
  },
  {
   "cell_type": "code",
   "execution_count": 56,
   "metadata": {},
   "outputs": [],
   "source": [
    "def getSpringerBookPDF(tupleBookDetails):\n",
    "    booksFolder = tupleBookDetails[4]\n",
    "    bookURL = tupleBookDetails[3]\n",
    "    theFileName = tupleBookDetails[0]+' ['+tupleBookDetails[1]+']'\n",
    "    print('Saving \"' + theFileName.upper() + '\" to ' + booksFolder)\n",
    "    thisPage = requests.get(bookURL)\n",
    "    thisSoup = BeautifulSoup(thisPage.content, \"html.parser\")\n",
    "    thisItem = thisSoup.find('a', {'title': 'Download this book in PDF format'})\n",
    "    theLinkedPDF = 'http://link.springer.com/' + thisItem['href']\n",
    "    wget.download(theLinkedPDF, \"{}/{}.pdf\".format(booksFolder, theFileName))\n",
    "    print('\\n\\tDONE\\n')"
   ]
  },
  {
   "cell_type": "code",
   "execution_count": 57,
   "metadata": {},
   "outputs": [
    {
     "name": "stdout",
     "output_type": "stream",
     "text": [
      "Saving \"FUNDAMENTALS OF POWER ELECTRONICS [ROBERT W. ERICKSON, DRAGAN MAKSIMOVIC]\" to SpringerBooks_Engineering\n"
     ]
    },
    {
     "ename": "FileNotFoundError",
     "evalue": "[Errno 2] No such file or directory: '.\\\\SpringerBooks_Engineering/Fundamentals of Power Electronics [Robert W. Erickson, Dragan Maksimovic].pdf6oqdro2s.tmp'",
     "output_type": "error",
     "traceback": [
      "\u001b[1;31m---------------------------------------------------------------------------\u001b[0m",
      "\u001b[1;31mFileNotFoundError\u001b[0m                         Traceback (most recent call last)",
      "\u001b[1;32m<ipython-input-57-37661ea254d1>\u001b[0m in \u001b[0;36m<module>\u001b[1;34m\u001b[0m\n\u001b[0;32m      1\u001b[0m \u001b[1;32mfor\u001b[0m \u001b[0mtp\u001b[0m \u001b[1;32min\u001b[0m \u001b[0mlist\u001b[0m\u001b[1;33m(\u001b[0m\u001b[0mzip\u001b[0m\u001b[1;33m(\u001b[0m\u001b[0mdf\u001b[0m\u001b[1;33m[\u001b[0m\u001b[1;34m'Book Title'\u001b[0m\u001b[1;33m]\u001b[0m\u001b[1;33m,\u001b[0m \u001b[0mdf\u001b[0m\u001b[1;33m[\u001b[0m\u001b[1;34m'Author'\u001b[0m\u001b[1;33m]\u001b[0m\u001b[1;33m,\u001b[0m \u001b[0mdf\u001b[0m\u001b[1;33m[\u001b[0m\u001b[1;34m'English Package Name'\u001b[0m\u001b[1;33m]\u001b[0m\u001b[1;33m,\u001b[0m \u001b[0mdf\u001b[0m\u001b[1;33m[\u001b[0m\u001b[1;34m'OpenURL'\u001b[0m\u001b[1;33m]\u001b[0m\u001b[1;33m,\u001b[0m \u001b[0mdf\u001b[0m\u001b[1;33m[\u001b[0m\u001b[1;34m'DirectoryName'\u001b[0m\u001b[1;33m]\u001b[0m\u001b[1;33m)\u001b[0m\u001b[1;33m)\u001b[0m\u001b[1;33m[\u001b[0m\u001b[1;33m:\u001b[0m\u001b[1;36m5\u001b[0m\u001b[1;33m]\u001b[0m\u001b[1;33m:\u001b[0m\u001b[1;33m\u001b[0m\u001b[1;33m\u001b[0m\u001b[0m\n\u001b[1;32m----> 2\u001b[1;33m     \u001b[0mgetSpringerBookPDF\u001b[0m\u001b[1;33m(\u001b[0m\u001b[0mtp\u001b[0m\u001b[1;33m)\u001b[0m\u001b[1;33m\u001b[0m\u001b[1;33m\u001b[0m\u001b[0m\n\u001b[0m",
      "\u001b[1;32m<ipython-input-56-e03ee2e546f1>\u001b[0m in \u001b[0;36mgetSpringerBookPDF\u001b[1;34m(tupleBookDetails)\u001b[0m\n\u001b[0;32m      8\u001b[0m     \u001b[0mthisItem\u001b[0m \u001b[1;33m=\u001b[0m \u001b[0mthisSoup\u001b[0m\u001b[1;33m.\u001b[0m\u001b[0mfind\u001b[0m\u001b[1;33m(\u001b[0m\u001b[1;34m'a'\u001b[0m\u001b[1;33m,\u001b[0m \u001b[1;33m{\u001b[0m\u001b[1;34m'title'\u001b[0m\u001b[1;33m:\u001b[0m \u001b[1;34m'Download this book in PDF format'\u001b[0m\u001b[1;33m}\u001b[0m\u001b[1;33m)\u001b[0m\u001b[1;33m\u001b[0m\u001b[1;33m\u001b[0m\u001b[0m\n\u001b[0;32m      9\u001b[0m     \u001b[0mtheLinkedPDF\u001b[0m \u001b[1;33m=\u001b[0m \u001b[1;34m'http://link.springer.com/'\u001b[0m \u001b[1;33m+\u001b[0m \u001b[0mthisItem\u001b[0m\u001b[1;33m[\u001b[0m\u001b[1;34m'href'\u001b[0m\u001b[1;33m]\u001b[0m\u001b[1;33m\u001b[0m\u001b[1;33m\u001b[0m\u001b[0m\n\u001b[1;32m---> 10\u001b[1;33m     \u001b[0mwget\u001b[0m\u001b[1;33m.\u001b[0m\u001b[0mdownload\u001b[0m\u001b[1;33m(\u001b[0m\u001b[0mtheLinkedPDF\u001b[0m\u001b[1;33m,\u001b[0m \u001b[1;34m\"{}/{}.pdf\"\u001b[0m\u001b[1;33m.\u001b[0m\u001b[0mformat\u001b[0m\u001b[1;33m(\u001b[0m\u001b[0mbooksFolder\u001b[0m\u001b[1;33m,\u001b[0m \u001b[0mtheFileName\u001b[0m\u001b[1;33m)\u001b[0m\u001b[1;33m)\u001b[0m\u001b[1;33m\u001b[0m\u001b[1;33m\u001b[0m\u001b[0m\n\u001b[0m\u001b[0;32m     11\u001b[0m     \u001b[0mprint\u001b[0m\u001b[1;33m(\u001b[0m\u001b[1;34m'\\n\\tDONE\\n'\u001b[0m\u001b[1;33m)\u001b[0m\u001b[1;33m\u001b[0m\u001b[1;33m\u001b[0m\u001b[0m\n",
      "\u001b[1;32m~\\AppData\\Local\\Continuum\\anaconda3\\lib\\site-packages\\wget.py\u001b[0m in \u001b[0;36mdownload\u001b[1;34m(url, out, bar)\u001b[0m\n\u001b[0;32m    504\u001b[0m     \u001b[1;31m# get filename for temp file in current directory\u001b[0m\u001b[1;33m\u001b[0m\u001b[1;33m\u001b[0m\u001b[1;33m\u001b[0m\u001b[0m\n\u001b[0;32m    505\u001b[0m     \u001b[0mprefix\u001b[0m \u001b[1;33m=\u001b[0m \u001b[0mdetect_filename\u001b[0m\u001b[1;33m(\u001b[0m\u001b[0murl\u001b[0m\u001b[1;33m,\u001b[0m \u001b[0mout\u001b[0m\u001b[1;33m)\u001b[0m\u001b[1;33m\u001b[0m\u001b[1;33m\u001b[0m\u001b[0m\n\u001b[1;32m--> 506\u001b[1;33m     \u001b[1;33m(\u001b[0m\u001b[0mfd\u001b[0m\u001b[1;33m,\u001b[0m \u001b[0mtmpfile\u001b[0m\u001b[1;33m)\u001b[0m \u001b[1;33m=\u001b[0m \u001b[0mtempfile\u001b[0m\u001b[1;33m.\u001b[0m\u001b[0mmkstemp\u001b[0m\u001b[1;33m(\u001b[0m\u001b[1;34m\".tmp\"\u001b[0m\u001b[1;33m,\u001b[0m \u001b[0mprefix\u001b[0m\u001b[1;33m=\u001b[0m\u001b[0mprefix\u001b[0m\u001b[1;33m,\u001b[0m \u001b[0mdir\u001b[0m\u001b[1;33m=\u001b[0m\u001b[1;34m\".\"\u001b[0m\u001b[1;33m)\u001b[0m\u001b[1;33m\u001b[0m\u001b[1;33m\u001b[0m\u001b[0m\n\u001b[0m\u001b[0;32m    507\u001b[0m     \u001b[0mos\u001b[0m\u001b[1;33m.\u001b[0m\u001b[0mclose\u001b[0m\u001b[1;33m(\u001b[0m\u001b[0mfd\u001b[0m\u001b[1;33m)\u001b[0m\u001b[1;33m\u001b[0m\u001b[1;33m\u001b[0m\u001b[0m\n\u001b[0;32m    508\u001b[0m     \u001b[0mos\u001b[0m\u001b[1;33m.\u001b[0m\u001b[0munlink\u001b[0m\u001b[1;33m(\u001b[0m\u001b[0mtmpfile\u001b[0m\u001b[1;33m)\u001b[0m\u001b[1;33m\u001b[0m\u001b[1;33m\u001b[0m\u001b[0m\n",
      "\u001b[1;32m~\\AppData\\Local\\Continuum\\anaconda3\\lib\\tempfile.py\u001b[0m in \u001b[0;36mmkstemp\u001b[1;34m(suffix, prefix, dir, text)\u001b[0m\n\u001b[0;32m    338\u001b[0m         \u001b[0mflags\u001b[0m \u001b[1;33m=\u001b[0m \u001b[0m_bin_openflags\u001b[0m\u001b[1;33m\u001b[0m\u001b[1;33m\u001b[0m\u001b[0m\n\u001b[0;32m    339\u001b[0m \u001b[1;33m\u001b[0m\u001b[0m\n\u001b[1;32m--> 340\u001b[1;33m     \u001b[1;32mreturn\u001b[0m \u001b[0m_mkstemp_inner\u001b[0m\u001b[1;33m(\u001b[0m\u001b[0mdir\u001b[0m\u001b[1;33m,\u001b[0m \u001b[0mprefix\u001b[0m\u001b[1;33m,\u001b[0m \u001b[0msuffix\u001b[0m\u001b[1;33m,\u001b[0m \u001b[0mflags\u001b[0m\u001b[1;33m,\u001b[0m \u001b[0moutput_type\u001b[0m\u001b[1;33m)\u001b[0m\u001b[1;33m\u001b[0m\u001b[1;33m\u001b[0m\u001b[0m\n\u001b[0m\u001b[0;32m    341\u001b[0m \u001b[1;33m\u001b[0m\u001b[0m\n\u001b[0;32m    342\u001b[0m \u001b[1;33m\u001b[0m\u001b[0m\n",
      "\u001b[1;32m~\\AppData\\Local\\Continuum\\anaconda3\\lib\\tempfile.py\u001b[0m in \u001b[0;36m_mkstemp_inner\u001b[1;34m(dir, pre, suf, flags, output_type)\u001b[0m\n\u001b[0;32m    256\u001b[0m         \u001b[0mfile\u001b[0m \u001b[1;33m=\u001b[0m \u001b[0m_os\u001b[0m\u001b[1;33m.\u001b[0m\u001b[0mpath\u001b[0m\u001b[1;33m.\u001b[0m\u001b[0mjoin\u001b[0m\u001b[1;33m(\u001b[0m\u001b[0mdir\u001b[0m\u001b[1;33m,\u001b[0m \u001b[0mpre\u001b[0m \u001b[1;33m+\u001b[0m \u001b[0mname\u001b[0m \u001b[1;33m+\u001b[0m \u001b[0msuf\u001b[0m\u001b[1;33m)\u001b[0m\u001b[1;33m\u001b[0m\u001b[1;33m\u001b[0m\u001b[0m\n\u001b[0;32m    257\u001b[0m         \u001b[1;32mtry\u001b[0m\u001b[1;33m:\u001b[0m\u001b[1;33m\u001b[0m\u001b[1;33m\u001b[0m\u001b[0m\n\u001b[1;32m--> 258\u001b[1;33m             \u001b[0mfd\u001b[0m \u001b[1;33m=\u001b[0m \u001b[0m_os\u001b[0m\u001b[1;33m.\u001b[0m\u001b[0mopen\u001b[0m\u001b[1;33m(\u001b[0m\u001b[0mfile\u001b[0m\u001b[1;33m,\u001b[0m \u001b[0mflags\u001b[0m\u001b[1;33m,\u001b[0m \u001b[1;36m0o600\u001b[0m\u001b[1;33m)\u001b[0m\u001b[1;33m\u001b[0m\u001b[1;33m\u001b[0m\u001b[0m\n\u001b[0m\u001b[0;32m    259\u001b[0m         \u001b[1;32mexcept\u001b[0m \u001b[0mFileExistsError\u001b[0m\u001b[1;33m:\u001b[0m\u001b[1;33m\u001b[0m\u001b[1;33m\u001b[0m\u001b[0m\n\u001b[0;32m    260\u001b[0m             \u001b[1;32mcontinue\u001b[0m    \u001b[1;31m# try again\u001b[0m\u001b[1;33m\u001b[0m\u001b[1;33m\u001b[0m\u001b[0m\n",
      "\u001b[1;31mFileNotFoundError\u001b[0m: [Errno 2] No such file or directory: '.\\\\SpringerBooks_Engineering/Fundamentals of Power Electronics [Robert W. Erickson, Dragan Maksimovic].pdf6oqdro2s.tmp'"
     ]
    }
   ],
   "source": [
    "for tp in list(zip(df['Book Title'], df['Author'], df['English Package Name'], df['OpenURL'], df['DirectoryName']))[:5]:\n",
    "    getSpringerBookPDF(tp)"
   ]
  },
  {
   "cell_type": "code",
   "execution_count": null,
   "metadata": {},
   "outputs": [],
   "source": []
  }
 ],
 "metadata": {
  "kernelspec": {
   "display_name": "Python 3",
   "language": "python",
   "name": "python3"
  },
  "language_info": {
   "codemirror_mode": {
    "name": "ipython",
    "version": 3
   },
   "file_extension": ".py",
   "mimetype": "text/x-python",
   "name": "python",
   "nbconvert_exporter": "python",
   "pygments_lexer": "ipython3",
   "version": "3.7.1"
  }
 },
 "nbformat": 4,
 "nbformat_minor": 2
}
