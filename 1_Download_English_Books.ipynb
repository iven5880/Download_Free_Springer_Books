{
 "cells": [
  {
   "cell_type": "code",
   "execution_count": 91,
   "metadata": {},
   "outputs": [],
   "source": [
    "%reset -f"
   ]
  },
  {
   "cell_type": "code",
   "execution_count": 92,
   "metadata": {},
   "outputs": [],
   "source": [
    "import pandas as pd\n",
    "import requests\n",
    "from bs4 import BeautifulSoup\n",
    "import wget\n",
    "import os"
   ]
  },
  {
   "cell_type": "code",
   "execution_count": 93,
   "metadata": {},
   "outputs": [],
   "source": [
    "def getDirectoryName(dirName):\n",
    "    dirName = dirName.replace(',', '')\n",
    "    dirName = dirName.replace(' ', '_')\n",
    "    dirName = 'SpringerBooks_'+dirName\n",
    "    return dirName"
   ]
  },
  {
   "cell_type": "code",
   "execution_count": 94,
   "metadata": {},
   "outputs": [],
   "source": [
    "df = pd.read_excel('Free+English+textbooks.xlsx')\n",
    "\n",
    "colsToDrop = ['Product Type', 'Copyright Year', 'Copyright Holder', 'Edition', 'Print ISBN', 'Electronic ISBN', 'Language Collection', 'German Package Name',\n",
    "              'Series Print ISSN', 'Series Electronic ISSN', 'Series Title', 'Volume Number', 'DOI URL', 'Subject Classification', 'Publisher', 'Imprint', 'eBook Package', 'Language']\n",
    "\n",
    "df = df.drop(colsToDrop, axis=1)\n",
    "\n",
    "df['DirectoryName'] = [getDirectoryName(i) for i in df['English Package Name']]\n",
    "\n",
    "# df.head()"
   ]
  },
  {
   "cell_type": "code",
   "execution_count": 85,
   "metadata": {},
   "outputs": [],
   "source": [
    "# create a directory for each book category\n",
    "\n",
    "for dr in set(df['DirectoryName']):\n",
    "    if os.path.exists(dr):\n",
    "        'Do Nothing'\n",
    "    else:\n",
    "        os.mkdir(dr)"
   ]
  },
  {
   "cell_type": "code",
   "execution_count": 86,
   "metadata": {},
   "outputs": [],
   "source": [
    "def getSpringerBookPDF(tupleBookDetails):\n",
    "    booksFolder = tupleBookDetails[4]\n",
    "    bookURL = tupleBookDetails[3]\n",
    "    theFileName = tupleBookDetails[0]+' ['+tupleBookDetails[1]+']'\n",
    "    print('Saving \"' + theFileName.upper() + '\" to ' + booksFolder)\n",
    "    thisPage = requests.get(bookURL)\n",
    "    thisSoup = BeautifulSoup(thisPage.content, \"html.parser\")\n",
    "    thisItem = thisSoup.find('a', {'title': 'Download this book in PDF format'})\n",
    "    theLinkedPDF = 'http://link.springer.com/' + thisItem['href']\n",
    "    wget.download(theLinkedPDF, '{}/{}.pdf'.format(booksFolder, theFileName))\n",
    "    print('\\n\\tDONE\\n')"
   ]
  },
  {
   "cell_type": "code",
   "execution_count": 87,
   "metadata": {},
   "outputs": [],
   "source": [
    "for tp in zip(df['Book Title'], df['Author'], df['English Package Name'], df['OpenURL'], df['DirectoryName']):\n",
    "    getSpringerBookPDF(tp)"
   ]
  },
  {
   "cell_type": "code",
   "execution_count": null,
   "metadata": {},
   "outputs": [],
   "source": []
  }
 ],
 "metadata": {
  "kernelspec": {
   "display_name": "Python 3",
   "language": "python",
   "name": "python3"
  },
  "language_info": {
   "codemirror_mode": {
    "name": "ipython",
    "version": 3
   },
   "file_extension": ".py",
   "mimetype": "text/x-python",
   "name": "python",
   "nbconvert_exporter": "python",
   "pygments_lexer": "ipython3",
   "version": "3.7.1"
  }
 },
 "nbformat": 4,
 "nbformat_minor": 2
}
